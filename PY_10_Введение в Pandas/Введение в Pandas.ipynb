{
 "cells": [
  {
   "cell_type": "code",
   "execution_count": null,
   "metadata": {},
   "outputs": [],
   "source": [
    "import pandas as pd\n",
    "pd.__version__"
   ]
  },
  {
   "cell_type": "code",
   "execution_count": null,
   "metadata": {},
   "outputs": [],
   "source": [
    "print(pd.__name__)"
   ]
  },
  {
   "cell_type": "markdown",
   "metadata": {},
   "source": [
    "Рассмотрим несколько способов создания Series на примере со списком названий стран."
   ]
  },
  {
   "cell_type": "code",
   "execution_count": null,
   "metadata": {},
   "outputs": [],
   "source": [
    "# Способ 1 — из списка с использованием параметров функции pd.Series():\n",
    "countries = pd.Series(\n",
    "    data = ['Англия', 'Канада', 'США', 'Россия', 'Украина', 'Беларусь', 'Казахстан'],\n",
    "    index = ['UK', 'CA', 'US', 'RU', 'UA', 'BY', 'KZ'],\n",
    "    name = 'countries'\n",
    ")\n",
    "# Способ 2 — из словаря, в котором ключами являются будущие метки, \n",
    "# а значениями — будущие значения Series,\n",
    "countries_2 = pd.Series({'AF': 'Afganistan', \n",
    "                         'AZ': 'Azerbayjan', \n",
    "                         'KG': 'Kirgistan', \n",
    "                         'TJ': 'Tadjikistan', \n",
    "                         'TM': 'Turkmenistan', \n",
    "                         'UZ': 'Uzbekistan'},\n",
    "    name = 'countries')\n",
    "display(countries)\n",
    "display(countries_2)"
   ]
  },
  {
   "cell_type": "code",
   "execution_count": null,
   "metadata": {},
   "outputs": [],
   "source": [
    "# Доступ к данным в Series\n",
    "countries = pd.Series(\n",
    "    data = ['Англия', 'Канада', 'США', 'Россия', 'Украина', 'Беларусь', 'Казахстан'],\n",
    "    index = ['UK', 'CA', 'US', 'RU', 'UA', 'BY', 'KZ'],\n",
    "    name = 'countries'\n",
    ")\n",
    "# Примечание. Обратите внимание, что в случае обращения по одному индексу возвращается строка. \n",
    "# Если же обратиться по нескольким элементам, возвращается объект Series.\n",
    "#display(countries.iloc[3])\n",
    "#display(countries.iloc[3:7])\n",
    "#display(countries.loc[['RU', 'BY', 'KZ']])\n",
    "#display(countries.loc[['RU']])\n",
    "display(countries)"
   ]
  },
  {
   "cell_type": "markdown",
   "metadata": {},
   "source": [
    "<div\n",
    ">В аптеку поступают партии лекарств. Их названия находятся в списке names, количество единиц товара находится в списке counts.\n",
    "\n",
    "Например:\n",
    "\n",
    "<b>names = ['chlorhexidine', 'cyntomycin', 'afobazol'] counts = [15, 18, 7]</b>\n",
    "\n",
    "Напишите функцию <b>create_medications(names, counts)</b>, которая создает Series medications, индексами которой являются названия лекарств names, а значениями - их количество в поставке counts.\n",
    "\n",
    "А также напишите функцию <b>get_percent(medications, name)</b>, которая возвращает долю количества товара с именем name от общего количества товаров в поставке в процентах.\n",
    "<hr>\n",
    "</div>"
   ]
  },
  {
   "cell_type": "markdown",
   "metadata": {},
   "source": [
    "Для начала, важно понимать, что процент - это часть от целого, выраженная в сотых долях. То есть, когда мы говорим о 100%, мы подразумеваем целое, единое целое. А уже все, что меньше 100% - это какая-то доля, часть от этого целого.\n",
    "\n",
    "Представьте, у вас есть пирог. Большой, круглый, аппетитный пирог. И вы решили разделить его на несколько частей. Если разрезать пирог на 4 равные части, то каждый кусочек будет составлять 1/4 от целого пирога, то есть 25%. Просто умножаем 1/4 на 100% и получаем искомый процент. Несложно, правда?\n",
    "\n",
    "<b>Или другой пример - в вашем классе 20 учеников. Из них 12 девочек и 8 мальчиков. Какова доля девочек и мальчиков в процентном соотношении? Для этого нужно количество девочек (12) разделить на общее число учеников (20) и умножить на 100%. Получится 60%. Соответственно, доля мальчиков составит 40%. Вот и вся математика!</b>\n",
    "\n",
    "Конечно, в реальной жизни цифры могут быть не такими круглыми и удобными. Но принцип расчета всегда одинаков: часть делим на целое и умножаем на 100%. Главное - правильно определить, что является целым, а что - его частью.\n",
    "\n",
    "Кстати, интересный факт: само слово \"процент\" происходит от латинского \"pro centum\", что буквально переводится как \"на сотню\". Так что даже этимология подсказывает нам, как правильно считать проценты."
   ]
  },
  {
   "cell_type": "code",
   "execution_count": null,
   "metadata": {},
   "outputs": [],
   "source": [
    "# Импортируем библиотеку \n",
    "import pandas as pd\n",
    "# Списки с данными\n",
    "names = ['chlorhexidine', 'cyntomycin', 'afobazol'] \n",
    "counts = [15, 18, 7]\n",
    "\n",
    "# Создаём функцию для создания \n",
    "def create_medications(names, counts):\n",
    "    # Создание Series\n",
    "    result = pd.Series(data=counts, index=names)\n",
    "    return result\n",
    "# Записываем в переменную нашу таблицу Series\n",
    "medications = create_medications(names, counts)\n",
    "\n",
    "# возвращает долю количества товара с именем name \n",
    "# от общего количества товаров в поставке в процентах.\n",
    "def get_percent(medications, name):\n",
    "    # Доступ к данным в Series\n",
    "    # Получаем общее количество товаров\n",
    "    counts = sum(medications.iloc[:]) \n",
    "    # Доступ к данным в Series\n",
    "    # Получаем долю количества товара с именем 'name' в процентах по формуле: \n",
    "    # количество товара с именем 'name' разделить на общее количество товаров и умножить на 100\n",
    "    result = float(medications.loc[name] / counts * 100)\n",
    "    # Возвращаем результат\n",
    "    return result\n",
    "# Вызваем функцию\n",
    "get_percent(medications, 'chlorhexidine')\n",
    "display(medications)\n",
    "display(get_percent(medications, 'chlorhexidine'))"
   ]
  },
  {
   "cell_type": "markdown",
   "metadata": {},
   "source": []
  },
  {
   "cell_type": "code",
   "execution_count": null,
   "metadata": {},
   "outputs": [],
   "source": [
    "# Импортируем библиотеку \n",
    "import pandas as pd\n",
    "# Создания DataFrame — из словаря, ключами которого являются имена столбцов будущей таблицы, \n",
    "# а значениями — списки, в которых хранится содержимое этих столбцов:\n",
    "countries_df = pd.DataFrame({\n",
    "    'country': ['Англия', 'Канада', 'США', 'Россия', 'Украина', 'Беларусь', 'Казахстан'],\n",
    "    'population': [56.29, 38.05, 322.28, 146.24, 45.5, 9.5, 17.04],\n",
    "    'area': [133396, 9984670, 9826630, 17125191, 603628, 207600, 2724902]\n",
    "})\n",
    "countries_df.index = ['UK', 'CA', 'US', 'RU', 'UA', 'BY', 'KZ']\n",
    "\n",
    "# Создать из вложенного списка, внутренние списки которого будут являться строками новой таблицы:\n",
    "countries_df_2 = pd.DataFrame(data= [['Afganistan', 34.27, 652864],\n",
    "                                     ['Azerbayjan', 10.16, 86600],\n",
    "                                     ['Kyrgistan', 6.2, 199951],\n",
    "                                     ['Tadjikistan', 10.5, 142550],\n",
    "                                     ['Turkmenistan', 6.2, 488100],\n",
    "                                     ['Uzbekistan', 37, 448900]],\n",
    "                              columns= ['country', 'population', 'area'],\n",
    "                              index= ['AF', 'AZ', 'KG', 'TJ', 'TM', 'UZ']\n",
    "                              )\n",
    "\n",
    "display(countries_df)\n",
    "display(countries_df_2)"
   ]
  },
  {
   "cell_type": "markdown",
   "metadata": {},
   "source": [
    "<center>\n",
    "\n",
    "### Axis в DataFrame"
   ]
  },
  {
   "cell_type": "markdown",
   "metadata": {},
   "source": [
    "→ Как уже было сказано, DataFrame является двумерной структурой данных, что означает наличие двух возможных направлений движения в ней: вдоль строк и вдоль столбцов. "
   ]
  },
  {
   "cell_type": "markdown",
   "metadata": {},
   "source": [
    "Например, мы можем удалять как строки, так и столбцы таблицы, вычислять среднее значение как по столбцам, так и по строкам таблицы."
   ]
  },
  {
   "cell_type": "markdown",
   "metadata": {},
   "source": [
    "При работе с Pandas важно уметь указывать направление работы метода, который используется. Для этого вводится понятие axis (ось, координата). Движение по строкам в таблице обозначается axis с индексом 0, а движение по столбцам — axis с индексом 1.\n",
    "\n",
    "Данный параметр заложен во все методы, которые могут работать в двух направлениях и по умолчанию в большинстве из них axis=0, то есть они выполняют операции со строками, если не задавать axis вручную."
   ]
  },
  {
   "cell_type": "markdown",
   "metadata": {},
   "source": [
    "<hr>"
   ]
  },
  {
   "attachments": {
    "axis.png": {
     "image/png": "[encoded data removed]"
    }
   },
   "cell_type": "markdown",
   "metadata": {},
   "source": [
    "<center>Схема ниже демонстрирует направления axis в DataFrame:\n",
    "<hr>\n",
    "\n",
    "![axis.png](attachment:axis.png)"
   ]
  },
  {
   "cell_type": "markdown",
   "metadata": {},
   "source": [
    "<hr>"
   ]
  },
  {
   "cell_type": "code",
   "execution_count": null,
   "metadata": {},
   "outputs": [],
   "source": [
    "# Считаем среднее по строкам (axis = 0) в каждом столбце:\n",
    "display(countries_df.mean(axis=0, numeric_only=True))\n",
    "display(countries_df)"
   ]
  },
  {
   "cell_type": "markdown",
   "metadata": {},
   "source": [
    "В данном случае среднее было рассчитано по строкам для столбцов population и area.\n",
    "\n",
    "Обратите внимание на то, что так как не все столбцы в нашей таблице являются числовыми, то нам необходимо установить параметр <u>**numeric_only**</u> в значение <u>**True**</u> (вести расчёт только по числовым столбцам). Это делается для того, чтобы не получать предупреждений (warnings)."
   ]
  },
  {
   "cell_type": "markdown",
   "metadata": {},
   "source": [
    "<hr>"
   ]
  },
  {
   "cell_type": "code",
   "execution_count": null,
   "metadata": {},
   "outputs": [],
   "source": [
    "# Считаем среднее по столбцам (axis = 1) в каждой строке:\n",
    "countries_df.mean(axis=1, numeric_only=True)"
   ]
  },
  {
   "cell_type": "markdown",
   "metadata": {},
   "source": [
    "В данном случае среднее было рассчитано по столбцам population и area для всех строк.\n",
    "\n",
    "Обратите внимание на то, что так как не все строки в нашей таблице являются числовыми, то нам необходимо установить параметр <u>**numeric_only**</u> в значение <u>**True**</u> (вести расчёт только по числовым строкам). Это делается для того, чтобы не получать предупреждений (warnings)."
   ]
  },
  {
   "cell_type": "markdown",
   "metadata": {},
   "source": [
    "<hr>"
   ]
  },
  {
   "cell_type": "markdown",
   "metadata": {},
   "source": [
    "<center>\n",
    "\n",
    "### Доступ к данным в DataFrame"
   ]
  },
  {
   "cell_type": "markdown",
   "metadata": {},
   "source": [
    "<center>\n",
    "\n",
    "#### Доступ к данным в DataFrame"
   ]
  },
  {
   "cell_type": "code",
   "execution_count": null,
   "metadata": {},
   "outputs": [],
   "source": [
    "# Можно обратиться к DataFrame по имени столбца через точку:\n",
    "type(countries_df.population)\n",
    "# Однако использование такого способа возможно только тогда, когда имя столбца указано без пробелов."
   ]
  },
  {
   "cell_type": "code",
   "execution_count": null,
   "metadata": {},
   "outputs": [],
   "source": [
    "display(countries_df.mean(axis=0, numeric_only=True))"
   ]
  },
  {
   "cell_type": "code",
   "execution_count": null,
   "metadata": {},
   "outputs": [],
   "source": [
    "# Другой вариант — обратиться к DataFrame по индексу и указать имя столбца:\n",
    "countries_df_2['population']"
   ]
  },
  {
   "cell_type": "code",
   "execution_count": null,
   "metadata": {},
   "outputs": [],
   "source": [
    "countries_df.loc[['RU', 'BY', 'KZ'],['population', 'area']]"
   ]
  },
  {
   "cell_type": "code",
   "execution_count": null,
   "metadata": {},
   "outputs": [],
   "source": [
    "countries_df.iloc[4:8, 1:3]"
   ]
  },
  {
   "cell_type": "code",
   "execution_count": 175,
   "metadata": {},
   "outputs": [
    {
     "data": {
      "text/html": [
       "<div>\n",
       "<style scoped>\n",
       "    .dataframe tbody tr th:only-of-type {\n",
       "        vertical-align: middle;\n",
       "    }\n",
       "\n",
       "    .dataframe tbody tr th {\n",
       "        vertical-align: top;\n",
       "    }\n",
       "\n",
       "    .dataframe thead th {\n",
       "        text-align: right;\n",
       "    }\n",
       "</style>\n",
       "<table border=\"1\" class=\"dataframe\">\n",
       "  <thead>\n",
       "    <tr style=\"text-align: right;\">\n",
       "      <th>years</th>\n",
       "      <th>Income</th>\n",
       "      <th>Expenses</th>\n",
       "    </tr>\n",
       "  </thead>\n",
       "  <tbody>\n",
       "    <tr>\n",
       "      <th>2018</th>\n",
       "      <td>478</td>\n",
       "      <td>156</td>\n",
       "    </tr>\n",
       "    <tr>\n",
       "      <th>2019</th>\n",
       "      <td>512</td>\n",
       "      <td>130</td>\n",
       "    </tr>\n",
       "    <tr>\n",
       "      <th>2020</th>\n",
       "      <td>196</td>\n",
       "      <td>270</td>\n",
       "    </tr>\n",
       "  </tbody>\n",
       "</table>\n",
       "</div>"
      ],
      "text/plain": [
       "years  Income  Expenses\n",
       "2018      478       156\n",
       "2019      512       130\n",
       "2020      196       270"
      ]
     },
     "metadata": {},
     "output_type": "display_data"
    }
   ],
   "source": [
    "import pandas as pd\n",
    "income = [478, 512, 196]\n",
    "expenses = [156, 130, 270]\n",
    "years = [2018, 2019, 2020]\n",
    "\n",
    "def create_companyDF(income, expenses, years):\n",
    "    result = pd.DataFrame({\n",
    "        'Income': income,\n",
    "        'Expenses': expenses\n",
    "    })\n",
    "    result.index=years\n",
    "    result = result.rename_axis('years',axis='columns')\n",
    "    return result\n",
    "\n",
    "df = create_companyDF(income, expenses, years)\n",
    "\n",
    "def get_profit(df, year):\n",
    "    if year not in df.index:\n",
    "        return None\n",
    "    result = df.loc[year]['Income'] - df.loc[year]['Expenses']\n",
    "    return result\n",
    "\n",
    "display(create_companyDF(income, expenses, years))\n",
    "#display(get_profit(df, 2018))"
   ]
  },
  {
   "cell_type": "markdown",
   "metadata": {},
   "source": [
    "<center>\n",
    "Экспорт данных в формат csv осуществляется с помощью метода DataFrame to_csv().\n",
    "<hr>"
   ]
  },
  {
   "cell_type": "markdown",
   "metadata": {},
   "source": [
    "<center>\n",
    "Основные параметры метода DataFrame to_csv()\n",
    "<hr>"
   ]
  },
  {
   "cell_type": "markdown",
   "metadata": {},
   "source": [
    "~~~python\n",
    "path_or_buf — путь до файла, в который будет записан DataFrame (например, data/my_data.csv);\n",
    "sep — разделитель данных в выходном файле (по умолчанию ',');\n",
    "decimal — разделитель чисел на целую и дробную части в выходном файле (по умолчанию '.');\n",
    "columns — список столбцов, которые нужно записать в файл (по умолчанию записываются все столбцы);\n",
    "index — параметр, определяющий, требуется ли создавать дополнительный столбец с индексами строк в файле (по умолчанию True).\n",
    "~~~"
   ]
  },
  {
   "cell_type": "code",
   "execution_count": 140,
   "metadata": {},
   "outputs": [],
   "source": [
    "countries_df = pd.DataFrame({\n",
    "    'country': ['Англия', 'Канада', 'США', 'Россия', 'Украина', 'Беларусь', 'Казахстан'],\n",
    "    'population': [56.29, 38.05, 322.28, 146.24, 45.5, 9.5, 17.04],\n",
    "    'area': [133396, 9984670, 9826630, 17125191, 603628, 207600, 2724902]\n",
    "})\n",
    "#countries_df.to_csv('data/countries.csv', index=False, sep=';')"
   ]
  },
  {
   "cell_type": "markdown",
   "metadata": {},
   "source": [
    "<center>\n",
    "Для чтения таблицы из csv-файла используется функция модуля Pandas read_csv. Функция возвращает DataFrame и имеет несколько важных параметров.\n",
    "<hr>"
   ]
  },
  {
   "cell_type": "markdown",
   "metadata": {},
   "source": [
    "<center>\n",
    "Основные параметры функции read_csv()\n",
    "<hr>"
   ]
  },
  {
   "cell_type": "markdown",
   "metadata": {},
   "source": [
    "~~~python\n",
    "Убедимся, что сохранённый нами ранее файл создался верно. Для этого прочитаем его в переменную countries_data и выведем её на экран. Не забудем также о том, что мы использовали в качестве разделителя ';':\n",
    "~~~"
   ]
  },
  {
   "cell_type": "code",
   "execution_count": null,
   "metadata": {},
   "outputs": [],
   "source": [
    "# Пропустить первые 20 строк при чтении(записи) из файла\n",
    "df = pd.read_csv('path/file.csv', sep = ';', skiprows = 20)"
   ]
  },
  {
   "cell_type": "code",
   "execution_count": null,
   "metadata": {},
   "outputs": [],
   "source": [
    "countries_data = pd.read_csv('data/countries.csv', sep=';')\n",
    "display(countries_data)"
   ]
  },
  {
   "cell_type": "code",
   "execution_count": null,
   "metadata": {},
   "outputs": [],
   "source": [
    "data = pd.read_csv('https://raw.githubusercontent.com/esabunor/MLWorkspace/master/melb_data.csv')\n",
    "display(data)"
   ]
  },
  {
   "cell_type": "code",
   "execution_count": null,
   "metadata": {},
   "outputs": [],
   "source": [
    "import numpy as np\n",
    "np.iinfo(np.int32)\n",
    "#np.finfo(np.float16)"
   ]
  },
  {
   "cell_type": "code",
   "execution_count": null,
   "metadata": {},
   "outputs": [],
   "source": [
    "melb_data = pd.read_csv('data/melb_data.csv', sep=',')\n",
    "\n",
    "# Выводим последние 5 строк таблицы\n",
    "#display(melb_data.tail(2))\n",
    "\n",
    "# В данном коде мы при помощи метода astype() последовательно переопределяем столбцы \n",
    "# на них же самих, только с изменённым типом данных: int64 — целочисленное число размером 64 бита.\n",
    "#melb_data['index'] = melb_data['index'].astype('Int16')\n",
    "melb_data['Rooms'] = melb_data['Rooms'].astype('Int8')\n",
    "#melb_data['Price'] = melb_data['Price'].astype('Int32')\n",
    "#melb_data['Distance'] = melb_data['Distance'].astype('float64')\n",
    "#melb_data['Car'] = melb_data['Car'].astype('Int8')\n",
    "melb_data['Landsize'] = melb_data['Landsize'].astype('int32')\n",
    "#melb_data['BuildingArea'] = melb_data['BuildingArea'].astype('int32')\n",
    "#melb_data['YearBuilt'] = melb_data['YearBuilt'].astype('int16')\n",
    "#melb_data['Lattitude'] = melb_data['Lattitude'].astype('float32')\n",
    "#melb_data['Longtitude'] = melb_data['Longtitude'].astype('float32')\n",
    "#melb_data['Propertycount'] = melb_data['Propertycount'].astype('float32')\n",
    "#melb_data['Bathroom'] = melb_data['Bathroom'].astype('Int8')\n",
    "#melb_data['Bedroom'] = melb_data['Bedroom'].astype('Int8')\n",
    "#melb_data['Postcode'] = melb_data['Postcode'].astype('Int16')\n",
    "\n",
    "display(melb_data.info())"
   ]
  },
  {
   "cell_type": "markdown",
   "metadata": {},
   "source": [
    "→ Часто при работе с таблицей нужно быстро посмотреть на основные статистические свойства её столбцов. Для этого можно воспользоваться методом DataFrame describe().\n",
    "<br>\n",
    "По умолчанию метод работает с числовыми (int64 и float64) столбцами и показывает число непустых значений (count), среднее (mean), стандартное отклонение (std), минимальное значение (min),  квантили уровней 0.25, 0.5 (медиана) и 0.75 (25%, 50%, 75%) и максимальное значение (max) для каждого столбца исходной таблицы."
   ]
  },
  {
   "cell_type": "code",
   "execution_count": null,
   "metadata": {},
   "outputs": [],
   "source": [
    "#display(melb_data.describe())\n",
    "display(melb_data.describe().loc[:, ['Distance', 'BuildingArea' , 'Price']])\n",
    "#display(melb_data.describe(include=('object')))\n",
    "display(melb_data.describe(include=('object')).loc[:, ['Type']])"
   ]
  },
  {
   "cell_type": "markdown",
   "metadata": {},
   "source": [
    "→ Для того чтобы определить, сколько раз в столбце повторяется каждый из вариантов значений (т.е. найти частоту для каждого уникального знания), используется метод value_counts()."
   ]
  },
  {
   "cell_type": "markdown",
   "metadata": {},
   "source": [
    "Данный метод возвращает объект Series, в котором в качестве индексов выступают уникальные категории столбца, а значениями — соответствующая им частота."
   ]
  },
  {
   "cell_type": "markdown",
   "metadata": {},
   "source": [
    "Рассмотрим работу value_counts() на примере столбца с названиями районов:"
   ]
  },
  {
   "cell_type": "code",
   "execution_count": null,
   "metadata": {},
   "outputs": [],
   "source": [
    "display(melb_data['Type'].value_counts())\n",
    "# Чтобы сделать вывод более интерпретируемым и понятным, можно воспользоваться параметром normalize. \n",
    "# При установке значения этого параметра на True результат будет представляться в виде доли (относительной частоты):\n",
    "display(melb_data['Type'].value_counts(normalize=True))"
   ]
  },
  {
   "cell_type": "markdown",
   "metadata": {},
   "source": [
    "Агрегирующим в Pandas называется метод, который для каждого столбца возвращает только одно значение — показатель (например, вычисление медианы, максимума, среднего и так далее)."
   ]
  },
  {
   "cell_type": "markdown",
   "metadata": {},
   "source": [
    "Ниже приведена таблица основных агрегирующих методов:"
   ]
  },
  {
   "cell_type": "code",
   "execution_count": 230,
   "metadata": {},
   "outputs": [
    {
     "data": {
      "text/html": [
       "<div>\n",
       "<style scoped>\n",
       "    .dataframe tbody tr th:only-of-type {\n",
       "        vertical-align: middle;\n",
       "    }\n",
       "\n",
       "    .dataframe tbody tr th {\n",
       "        vertical-align: top;\n",
       "    }\n",
       "\n",
       "    .dataframe thead th {\n",
       "        text-align: right;\n",
       "    }\n",
       "</style>\n",
       "<table border=\"1\" class=\"dataframe\">\n",
       "  <thead>\n",
       "    <tr style=\"text-align: right;\">\n",
       "      <th>Метод</th>\n",
       "      <th>Статистический параметр</th>\n",
       "    </tr>\n",
       "  </thead>\n",
       "  <tbody>\n",
       "    <tr>\n",
       "      <th>.count()</th>\n",
       "      <td>Количество непустых значений</td>\n",
       "    </tr>\n",
       "    <tr>\n",
       "      <th>.mean()</th>\n",
       "      <td>Среднее значение</td>\n",
       "    </tr>\n",
       "    <tr>\n",
       "      <th>.min()</th>\n",
       "      <td>Минимальное значение</td>\n",
       "    </tr>\n",
       "    <tr>\n",
       "      <th>.max()</th>\n",
       "      <td>Максимальное значение</td>\n",
       "    </tr>\n",
       "    <tr>\n",
       "      <th>.var()</th>\n",
       "      <td>Дисперсия</td>\n",
       "    </tr>\n",
       "    <tr>\n",
       "      <th>.std()</th>\n",
       "      <td>Стандартное отклонение</td>\n",
       "    </tr>\n",
       "    <tr>\n",
       "      <th>.sum()</th>\n",
       "      <td>Сумма</td>\n",
       "    </tr>\n",
       "    <tr>\n",
       "      <th>.quantile(x)</th>\n",
       "      <td>Квантиль уровня (x)</td>\n",
       "    </tr>\n",
       "    <tr>\n",
       "      <th>.nunique()</th>\n",
       "      <td>Число уникальных значений</td>\n",
       "    </tr>\n",
       "  </tbody>\n",
       "</table>\n",
       "</div>"
      ],
      "text/plain": [
       "Метод              Статистический параметр\n",
       ".count()      Количество непустых значений\n",
       ".mean()                   Среднее значение\n",
       ".min()                Минимальное значение\n",
       ".max()               Максимальное значение\n",
       ".var()                           Дисперсия\n",
       ".std()              Стандартное отклонение\n",
       ".sum()                               Сумма\n",
       ".quantile(x)           Квантиль уровня (x)\n",
       ".nunique()       Число уникальных значений"
      ]
     },
     "metadata": {},
     "output_type": "display_data"
    }
   ],
   "source": [
    "data = ['Количество непустых значений',\n",
    "        'Среднее значение',\n",
    "        'Минимальное значение',\n",
    "        'Максимальное значение',\n",
    "        'Дисперсия',\n",
    "        'Стандартное отклонение',\n",
    "        'Сумма',\n",
    "        'Квантиль уровня (x)',\n",
    "        'Число уникальных значений']\n",
    "indx=['.count()','.mean()','.min()','.max()','.var()',\n",
    "      '.std()','.sum()','.quantile(x)','.nunique()']\n",
    "# Функция для создания таблицы\n",
    "def S_table(data, indx):\n",
    "    # Создаём таблицу через словарь, где ключ это название а значение это переменные с данными\n",
    "    result = pd.DataFrame({'Статистический параметр':data})\n",
    "    # Присваиваем к индексам переменную с индексами\n",
    "    result.index=indx\n",
    "    # Задаём имя нулевому(индексному) столбцу\n",
    "    result = result.rename_axis('Метод', axis=1)\n",
    "    # Возвращаем нашу таблицу\n",
    "    return result\n",
    "\n",
    "Series_table = S_table(data, indx)\n",
    "\n",
    "display(Series_table)"
   ]
  },
  {
   "cell_type": "markdown",
   "metadata": {},
   "source": [
    "Если один из этих методов применить ко всему DataFrame, то в результате его работы будет получен объект типа Series, в котором в качестве индексов будут выступать наименования столбцов, а в качестве значений — статистический показатель. В случае применения метода к отдельному столбцу результатом вычислений станет число."
   ]
  },
  {
   "cell_type": "markdown",
   "metadata": {},
   "source": [
    "<center>\n",
    "\n",
    "**В каждый метод можно передать некоторые параметры, среди которых:**\n",
    "</center>\n",
    "\n",
    "* axis  — определяет, подсчитывать параметр по строкам или по столбцам;\n",
    "* numeric_only — определяет, вычислять параметры только по числовым столбцам/строкам или нет (True/False)."
   ]
  },
  {
   "cell_type": "code",
   "execution_count": null,
   "metadata": {},
   "outputs": [],
   "source": [
    "rate = 0.12\n",
    "income = melb_data['Price'].sum() * rate\n",
    "print('Total income of real estate agencies:', round(income, 2))\n",
    "# Total income of real estate agencies: 1752934775.88"
   ]
  },
  {
   "cell_type": "code",
   "execution_count": null,
   "metadata": {},
   "outputs": [],
   "source": [
    "# Найдём, насколько медианная площадь территории отличается от её среднего значения.\n",
    "# Вычислим модуль разницы между медианой и средним и разделим результат на среднее, \n",
    "# чтобы получить отклонение в долях:\n",
    "# В результате получаем долю отклонения медианы от среднего значения. \n",
    "# Умножив результат на 100, получим его в процентах. \n",
    "# Отклонение медианы от среднего значения на 21% является довольно большим, \n",
    "# и это повод задуматься над тем, чтобы исследовать признак на наличие аномалий. \n",
    "landsize_median = melb_data['Landsize'].median() \n",
    "landsize_mean =  melb_data['Landsize'].mean()\n",
    "print(round((abs(landsize_median - landsize_mean)/landsize_mean)*100))"
   ]
  },
  {
   "cell_type": "code",
   "execution_count": null,
   "metadata": {},
   "outputs": [],
   "source": [
    "display(melb_data['BuildingArea'].mode())\n",
    "display(melb_data[['BuildingArea']].head(7))"
   ]
  },
  {
   "cell_type": "code",
   "execution_count": null,
   "metadata": {},
   "outputs": [],
   "source": [
    "# Метод shape в Pandas возвращает кортеж, \n",
    "# показывающий количество строк и столбцов в датафрейме\n",
    "melb_data.shape\n",
    "# Узнать колличество строк\n",
    "melb_data.shape[0]\n",
    "# Узнать колличество столбцов\n",
    "melb_data.shape[1]"
   ]
  },
  {
   "cell_type": "code",
   "execution_count": null,
   "metadata": {},
   "outputs": [],
   "source": [
    "# → Отдельный интерес представляет статический показатель моды \n",
    "# — самого распространённого значения в столбце. Он вычисляется с помощью метода mode().\n",
    "# Вычислим, какое число комнат чаще всего представлено на рынке недвижимости:\n",
    "display(melb_data['Rooms'].mode())"
   ]
  },
  {
   "cell_type": "code",
   "execution_count": null,
   "metadata": {},
   "outputs": [],
   "source": [
    "# Метод mode() может быть использован не только с числовыми столбцами, но и со столбцами типа object. \n",
    "# Так, например, с помощью следующего кода можно найти наиболее распространённое название района:\n",
    "display(melb_data['Regionname'].mode())"
   ]
  },
  {
   "cell_type": "code",
   "execution_count": null,
   "metadata": {},
   "outputs": [],
   "source": [
    "area_median = melb_data['BuildingArea'].median()\n",
    "area_mean = melb_data['BuildingArea'].mean()\n",
    "\n",
    "display(round(abs(((area_median-area_mean)/area_mean)*100)))"
   ]
  },
  {
   "cell_type": "code",
   "execution_count": null,
   "metadata": {},
   "outputs": [],
   "source": [
    "df = pd.DataFrame([1, 2, 4, 2, 3, 2, 1, 5, 6])\n",
    "df[0] = df[0].astype('Int8')\n",
    "df[0].mode()"
   ]
  },
  {
   "cell_type": "code",
   "execution_count": null,
   "metadata": {},
   "outputs": [],
   "source": [
    "melb_data[(melb_data['Price'] < 1000000) & (melb_data['Rooms'] > 7)]"
   ]
  },
  {
   "cell_type": "code",
   "execution_count": 239,
   "metadata": {},
   "outputs": [
    {
     "data": {
      "text/plain": [
       "596"
      ]
     },
     "execution_count": 239,
     "metadata": {},
     "output_type": "execute_result"
    }
   ],
   "source": [
    "melb_data[melb_data['Rooms']==5].shape[0]"
   ]
  }
 ],
 "metadata": {
  "kernelspec": {
   "display_name": "Python 3",
   "language": "python",
   "name": "python3"
  },
  "language_info": {
   "codemirror_mode": {
    "name": "ipython",
    "version": 3
   },
   "file_extension": ".py",
   "mimetype": "text/x-python",
   "name": "python",
   "nbconvert_exporter": "python",
   "pygments_lexer": "ipython3",
   "version": "3.13.0"
  }
 },
 "nbformat": 4,
 "nbformat_minor": 2
}
