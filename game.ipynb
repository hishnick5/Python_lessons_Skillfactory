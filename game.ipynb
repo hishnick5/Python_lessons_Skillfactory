{
 "cells": [
  {
   "cell_type": "code",
   "execution_count": null,
   "metadata": {},
   "outputs": [],
   "source": [
    "from game_v2 import random_predict\n",
    "from game_v2 import score_game"
   ]
  },
  {
   "cell_type": "code",
   "execution_count": null,
   "metadata": {},
   "outputs": [],
   "source": [
    "import numpy as np"
   ]
  },
  {
   "cell_type": "code",
   "execution_count": null,
   "metadata": {},
   "outputs": [],
   "source": [
    "# Функция угадывания рандомного числа\n",
    "def game_core_v1(number:int=1) -> int:\n",
    "    \"\"\"Рандомно угадываем число\n",
    "    Args:\n",
    "        number (int, optional): Загаданное число. Defaults to 1.\n",
    "    Returns:\n",
    "        int: Число попыток\n",
    "    \"\"\"\n",
    "\n",
    "    count = 0\n",
    "\n",
    "    while True:\n",
    "        count += 1\n",
    "        predict_number = np.random.randint(1, 101) # предполагаемое число\n",
    "        if number == predict_number:\n",
    "            break # выход из цикла, если угадали\n",
    "    return(count)\n",
    "# game_core_v1()"
   ]
  },
  {
   "cell_type": "code",
   "execution_count": null,
   "metadata": {},
   "outputs": [],
   "source": [
    "def game_core_v2(number:int=1) -> int:\n",
    "    \"\"\"_summary_\n",
    "\n",
    "    Args:\n",
    "        number (int, optional): _description_. Defaults to 1.\n",
    "\n",
    "    Returns:\n",
    "        int: _description_\n",
    "    \"\"\"\n",
    "    count = 0\n",
    "    predict = np.random.randint(1, 101)\n",
    "    while number != predict:\n",
    "        count += 1\n",
    "        if number < predict:\n",
    "            predict -= 1\n",
    "        elif number > predict:\n",
    "            predict += 1\n",
    "    return count\n",
    "# game_core_v2()"
   ]
  },
  {
   "cell_type": "code",
   "execution_count": null,
   "metadata": {},
   "outputs": [],
   "source": [
    "def game_core_v3(number:int=1) -> int:\n",
    "    \"\"\"_summary_\n",
    "    Args:\n",
    "        number (int, optional): _description_. Defaults to 1.\n",
    "    Returns:\n",
    "        int: _description_\n",
    "    \"\"\"\n",
    "    count = 0\n",
    "    predict = np.random.randint(1, 101)\n",
    "    while number != predict:\n",
    "        count += 1\n",
    "        if (number %2==0 and predict %2==0) or (number %2!=0 and predict %2!=0):\n",
    "            if number > predict:\n",
    "                predict += 2\n",
    "            elif number < predict:\n",
    "                predict -= 2\n",
    "        else:\n",
    "            if number > predict:\n",
    "                predict += 1\n",
    "            elif number < predict:\n",
    "                predict -= 1\n",
    "    return count\n",
    "game_core_v3()"
   ]
  },
  {
   "cell_type": "code",
   "execution_count": null,
   "metadata": {},
   "outputs": [],
   "source": [
    "# Функция количество попыток в среднем из 1000 подходов угадывает наш алгоритм\n",
    "def score_game(random_predict) -> int:\n",
    "    \"\"\"За какое количество попыток в среднем из 1000 подходов угадывает наш алгоритм\n",
    "    Args:\n",
    "        random_predict ([type]): функция угадывания\n",
    "    Returns:\n",
    "        int: среднее количество попыток\n",
    "    \"\"\"\n",
    "    count_ls = [] # список для сохранения количества попыток\n",
    "    # np.random.seed(1) # фиксируем сид для воспроизводимости\n",
    "    random_array = np.random.randint(1, 101, size=(10000)) # загадали список чисел\n",
    "\n",
    "    for number in random_array:\n",
    "        count_ls.append(random_predict(number))\n",
    "\n",
    "    score = int(np.mean(count_ls)) # находим среднее количество попыток\n",
    "\n",
    "    # print(f'Ваш алгоритм угадывает число в среднем за: {score} попыток')\n",
    "    return(f'Ваш алгоритм угадывает число в среднем за: {score} попыток')\n",
    "# score_game(random_predict)"
   ]
  },
  {
   "cell_type": "code",
   "execution_count": null,
   "metadata": {},
   "outputs": [],
   "source": [
    "print(score_game(game_core_v3))\n",
    "print(score_game(game_core_v2))\n",
    "print(score_game(game_core_v1))"
   ]
  }
 ],
 "metadata": {
  "kernelspec": {
   "display_name": "Python 3",
   "language": "python",
   "name": "python3"
  },
  "language_info": {
   "codemirror_mode": {
    "name": "ipython",
    "version": 3
   },
   "file_extension": ".py",
   "mimetype": "text/x-python",
   "name": "python",
   "nbconvert_exporter": "python",
   "pygments_lexer": "ipython3",
   "version": "3.13.0"
  }
 },
 "nbformat": 4,
 "nbformat_minor": 4
}
