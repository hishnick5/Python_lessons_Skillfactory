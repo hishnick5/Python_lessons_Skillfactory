{
 "cells": [
  {
   "cell_type": "code",
   "execution_count": 1,
   "metadata": {},
   "outputs": [],
   "source": [
    "import pandas as pd"
   ]
  },
  {
   "cell_type": "code",
   "execution_count": null,
   "metadata": {},
   "outputs": [],
   "source": [
    "melb_data = pd.read_csv('data/melb_data_ps.csv', sep=',')\n",
    "melb_df = melb_data.copy()\n",
    "melb_df.head()"
   ]
  },
  {
   "cell_type": "markdown",
   "metadata": {},
   "source": [
    "Задание 2.3 (External resource)"
   ]
  },
  {
   "cell_type": "markdown",
   "metadata": {},
   "source": [
    "Напишите функцию **delete_columns(df, col=[ ])**, которая удаляет столбцы из DataFrame и возвращает новую таблицу. Если одного из указанных столбцов не существует в таблице, то функция должна возвращать None.\n",
    "\n",
    "Пример **DataFrame**:"
   ]
  },
  {
   "cell_type": "code",
   "execution_count": 11,
   "metadata": {},
   "outputs": [
    {
     "ename": "TypeError",
     "evalue": "delete_columns() got an unexpected keyword argument 'customer_df'",
     "output_type": "error",
     "traceback": [
      "\u001b[1;31m---------------------------------------------------------------------------\u001b[0m",
      "\u001b[1;31mTypeError\u001b[0m                                 Traceback (most recent call last)",
      "Cell \u001b[1;32mIn[11], line 13\u001b[0m\n\u001b[0;32m     11\u001b[0m     df \u001b[38;5;241m=\u001b[39m df\u001b[38;5;241m.\u001b[39mdrop([col],axis\u001b[38;5;241m=\u001b[39m\u001b[38;5;241m1\u001b[39m)\n\u001b[0;32m     12\u001b[0m     \u001b[38;5;28;01mreturn\u001b[39;00m df\n\u001b[1;32m---> 13\u001b[0m display(\u001b[43mdelete_columns\u001b[49m\u001b[43m(\u001b[49m\u001b[43mcustomer_df\u001b[49m\u001b[43m,\u001b[49m\u001b[43m \u001b[49m\u001b[43mcustomer_df\u001b[49m\u001b[38;5;241;43m=\u001b[39;49m\u001b[43m[\u001b[49m\u001b[38;5;124;43m'\u001b[39;49m\u001b[38;5;124;43mnumber\u001b[39;49m\u001b[38;5;124;43m'\u001b[39;49m\u001b[43m,\u001b[49m\u001b[43m \u001b[49m\u001b[38;5;124;43m'\u001b[39;49m\u001b[38;5;124;43mcust_order\u001b[39;49m\u001b[38;5;124;43m'\u001b[39;49m\u001b[43m]\u001b[49m\u001b[43m)\u001b[49m)\n",
      "\u001b[1;31mTypeError\u001b[0m: delete_columns() got an unexpected keyword argument 'customer_df'"
     ]
    }
   ],
   "source": [
    "customer_df = pd.DataFrame({\n",
    "            'number': [0, 1, 2, 3, 4],\n",
    "            'cust_id': [128, 1201, 9832, 4392, 7472],\n",
    "            'cust_age': [13, 21, 19, 21, 60],\n",
    "            'cust_sale': [0, 0, 0.2, 0.15, 0.3],\n",
    "            'cust_year_birth': [2008, 2000, 2002, 2000, 1961],\n",
    "            'cust_order': [1400, 14142, 900, 1240, 8430]\n",
    "        })\n",
    "\n",
    "def delete_columns(df, col=[]):\n",
    "    df = df.drop([col],axis=1)\n",
    "    return df\n",
    "display(delete_columns(customer_df, customer_df=['number', 'cust_order']))"
   ]
  }
 ],
 "metadata": {
  "kernelspec": {
   "display_name": "Python 3",
   "language": "python",
   "name": "python3"
  },
  "language_info": {
   "codemirror_mode": {
    "name": "ipython",
    "version": 3
   },
   "file_extension": ".py",
   "mimetype": "text/x-python",
   "name": "python",
   "nbconvert_exporter": "python",
   "pygments_lexer": "ipython3",
   "version": "3.13.0"
  }
 },
 "nbformat": 4,
 "nbformat_minor": 2
}
