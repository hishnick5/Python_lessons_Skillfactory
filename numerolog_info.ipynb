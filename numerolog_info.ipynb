{
 "cells": [
  {
   "cell_type": "markdown",
   "metadata": {},
   "source": [
    "Высчитывает технический расклад человека"
   ]
  },
  {
   "cell_type": "code",
   "execution_count": 46,
   "metadata": {},
   "outputs": [
    {
     "name": "stdout",
     "output_type": "stream",
     "text": [
      "('279', '257')\n"
     ]
    }
   ],
   "source": [
    "input_date = input('Введите свою дату рождения ввиде \"день месяц год\" через знак припинания точка(.) xx.xx.xxxx')\n",
    "# texnicheskiy rasklad 10.05.1983\n",
    "def technical_layout(input_date):\n",
    "    # Очищаем дату от нулей и точек\n",
    "    input_date = input_date.replace('.', '').replace('0', '')\n",
    "    # Создаём список чисел из очищеной даты\n",
    "    pure_numbers_list = [int(i) for i in input_date]\n",
    "    # Получаем первое доп.число тела\n",
    "    body_number1 = str(sum(pure_numbers_list))\n",
    "    # Получаем второе доп.число тела\n",
    "    if body_number1[1] == '0':\n",
    "        body_number2 = body_number1[0]\n",
    "    else:\n",
    "        body_number2 = str(sum([int(i) for i in body_number1]))\n",
    "    # Вычисляем число тела\n",
    "    body = body_number1 + body_number2\n",
    "    # Получаем первое доп.число души\n",
    "    soul_number1 = str(abs(int(body_number1) - pure_numbers_list[0]*2))\n",
    "    # Получаем второе доп.число души\n",
    "    if len(soul_number1) == 1:\n",
    "        soul_number2 = '0' + soul_number1\n",
    "    else:\n",
    "        soul_number2 = str(sum([int(i) for i in soul_number1]))\n",
    "    # Вычисляем число души\n",
    "    soul = soul_number1 + soul_number2\n",
    "    return (body, soul)\n",
    "print(technical_layout(input_date))"
   ]
  }
 ],
 "metadata": {
  "kernelspec": {
   "display_name": "Python 3",
   "language": "python",
   "name": "python3"
  },
  "language_info": {
   "codemirror_mode": {
    "name": "ipython",
    "version": 3
   },
   "file_extension": ".py",
   "mimetype": "text/x-python",
   "name": "python",
   "nbconvert_exporter": "python",
   "pygments_lexer": "ipython3",
   "version": "3.13.0"
  }
 },
 "nbformat": 4,
 "nbformat_minor": 2
}
