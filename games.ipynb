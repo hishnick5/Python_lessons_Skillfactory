{
 "cells": [
  {
   "cell_type": "markdown",
   "metadata": {},
   "source": [
    "Профессия Data Science<BR>\n",
    "<I>Блок 1. Знакомство с данными. Python для анализа данных</I><BR>\n",
    "<U>Инструменты для Data Science</U><BR>\n",
    "<B>PYTHON-8.</B><BR>\n",
    "3/8   3. Базовые функции VS Code"
   ]
  },
  {
   "cell_type": "markdown",
   "metadata": {},
   "source": [
    "Игра угадай число"
   ]
  },
  {
   "cell_type": "code",
   "execution_count": null,
   "metadata": {},
   "outputs": [],
   "source": [
    "\"\"\"Игра угадай число\"\"\"\n",
    "import numpy as np\n",
    "\n",
    "number = np.random.randint(1, 100) # Загадываем число\n",
    "\n",
    "count = 0\n",
    "\n",
    "while True:\n",
    "    count += 1\n",
    "    predict_number = int(input('Угадай число от 1 до 100'))\n",
    "    \n",
    "    if predict_number > number:\n",
    "        print('Число должно быть меньше')\n",
    "    elif predict_number < number:\n",
    "        print('Число должно быть больше')\n",
    "    else:\n",
    "        print(f'Вы угадали число! Это число {number}, за {count} попыток.')\n",
    "        break"
   ]
  },
  {
   "cell_type": "markdown",
   "metadata": {},
   "source": [
    "<I>Теперь напишем более сложную версию игры, пусть компьютер сам загадывает и отгадывает числа.</I><BR>\n",
    "<I>Немного модифицируем описание функции — добавим информацию о том, что загадывает и отгадывает числа теперь сам компьютер.</I>"
   ]
  },
  {
   "cell_type": "code",
   "execution_count": 20,
   "metadata": {},
   "outputs": [
    {
     "name": "stdout",
     "output_type": "stream",
     "text": [
      "Количество попыток: 9\n"
     ]
    }
   ],
   "source": [
    "import numpy as np\n",
    "'''\n",
    "Обратите внимание, что в аргументах функции мы через двоеточие указываем тип данных для ввода (int), \n",
    "через равно — стандартное значение этого типа данных. Стрелка (->) указывает, какой тип данных мы должны получить на выходе. \n",
    "Это упростит заполнение документации (VS Code сможет автоматически генерировать её), \n",
    "а также позволит в дальнейшем эффективнее работать с ошибками.\n",
    "'''\n",
    "def random_predict(number:int=1) -> int:\n",
    "    \"\"\"_summary_\n",
    "\n",
    "    Args:\n",
    "        number (int, optional): _description_. Defaults to 1.\n",
    "\n",
    "    Returns:\n",
    "        int: _description_\n",
    "    \"\"\"\n",
    "    count = 0\n",
    "\n",
    "    while True:\n",
    "        count += 1\n",
    "        predict_number = np.random.randint(1, 101) # рандомное число от 1 до 100\n",
    "        if number == predict_number:\n",
    "            break # выход из цикла, если угадали\n",
    "    return(count)\n",
    "\n",
    "print(f'Количество попыток: {random_predict()}')"
   ]
  },
  {
   "cell_type": "markdown",
   "metadata": {},
   "source": [
    "<B>ВНОВЬ МОДИФИЦИРУЕМ ЗАДАЧУ</B><br>\n",
    "<br>\n",
    "<I>В том же файле game_v2.py напишем функцию <U>score_game()</U>, определяющую среднее количество попыток угадывания числа. Аргументом функции будет другая функция, с помощью которой и реализуется угадывание числа. </I><br>\n",
    "<br>\n",
    "Пропишем для этой функции документацию. Алгоритм работы функции вы можете прочитать в комментариях:<br>"
   ]
  },
  {
   "cell_type": "code",
   "execution_count": null,
   "metadata": {},
   "outputs": [],
   "source": [
    "def score_game(random_predict) -> int:\n",
    "    \"\"\"За какое количество попыток в среднем из 1000 подходов угадывает наш алгоритм\n",
    "\n",
    "    Args:\n",
    "        random_predict ([type]): функция угадывания\n",
    "\n",
    "    Returns:\n",
    "        int: среднее количество попыток\n",
    "    \"\"\"\n",
    "\n",
    "    count_ls = [] # список для сохранения количества попыток\n",
    "    np.random.seed(1) # фиксируем сид для воспроизводимости\n",
    "    random_array = np.random.randint(1, 101, size=(1000)) # загадали список чисел\n",
    "\n",
    "    for number in random_array:\n",
    "        count_ls.append(random_predict(number))\n",
    "\n",
    "    score = int(np.mean(count_ls)) # находим среднее количествопопыток\n",
    "\n",
    "    print(f'Ваш алгоритм угадывает число в среднем за: {score} попыток')\n",
    "    return(score)\n",
    "\n",
    "# RUN\n",
    "score_game(random_predict)"
   ]
  },
  {
   "cell_type": "markdown",
   "metadata": {},
   "source": [
    "Импортируем созданную нами ранее мини-библиотеку в ноутбук."
   ]
  },
  {
   "cell_type": "code",
   "execution_count": 32,
   "metadata": {},
   "outputs": [],
   "source": [
    "import game_v2"
   ]
  },
  {
   "cell_type": "markdown",
   "metadata": {},
   "source": [
    "Теперь мы будем выполнять импортируемый код следующим образом:"
   ]
  },
  {
   "cell_type": "code",
   "execution_count": null,
   "metadata": {},
   "outputs": [],
   "source": [
    "game_v2.score_game(game_v2.random_predict)"
   ]
  },
  {
   "cell_type": "markdown",
   "metadata": {},
   "source": [
    "<I>Примечание. Для того чтобы обратиться к функции из модуля game_v2, мы должны сначала обратиться к модулю game_v2, который мы импортировали выше, а затем через точку обратиться к функции, которая находится в этом модуле.</I>"
   ]
  },
  {
   "cell_type": "markdown",
   "metadata": {},
   "source": [
    "На самом деле, выполнять код таким образом не совсем корректно — лучше указать, из какой библиотеки (в данном случае — соседний файл, game_v2.py) мы производим импорт. Корректный импорт будет выглядеть так:"
   ]
  },
  {
   "cell_type": "code",
   "execution_count": null,
   "metadata": {},
   "outputs": [],
   "source": [
    "from game_v2 import score_game\n",
    "from game_v2 import random_predict\n",
    "score_game(random_predict) #вызов функции"
   ]
  },
  {
   "cell_type": "markdown",
   "metadata": {},
   "source": [
    "Примечание.<br>\n",
    "С помощью ключевого слова <B>from</B> мы указываем, откуда будет производиться импорт, а далее прописываем функцию, которую будем импортировать. После этого мы можем уже напрямую обращаться к функции по имени.\n",
    "\n",
    "Чтобы не прописывать импорт из одного и того же модуля несколько раз, можно перечислить нужные нам из этого модуля функции через запятую:<br>\n",
    "<br>\n",
    "<B>from game_v2 import score_game, random_predict</B>"
   ]
  },
  {
   "cell_type": "markdown",
   "metadata": {},
   "source": [
    "<b>Важно!</b> Хорошим тоном считается переносить код в файлы Python, чтобы с ним было проще работать на продакшене, а в Jupyter Notebook делать исключительно презентацию."
   ]
  },
  {
   "cell_type": "code",
   "execution_count": 36,
   "metadata": {},
   "outputs": [],
   "source": [
    "n = 10\n",
    "z = n\n",
    "n = 5"
   ]
  },
  {
   "cell_type": "markdown",
   "metadata": {},
   "source": [
    "# Игра угадай число\n",
    "## Игра угадай число\n",
    "### Игра угадай число\n",
    "#### Игра угадай число\n",
    "##### Игра угадай число"
   ]
  }
 ],
 "metadata": {
  "kernelspec": {
   "display_name": "Python 3",
   "language": "python",
   "name": "python3"
  },
  "language_info": {
   "codemirror_mode": {
    "name": "ipython",
    "version": 3
   },
   "file_extension": ".py",
   "mimetype": "text/x-python",
   "name": "python",
   "nbconvert_exporter": "python",
   "pygments_lexer": "ipython3",
   "version": "3.11.0"
  }
 },
 "nbformat": 4,
 "nbformat_minor": 2
}
