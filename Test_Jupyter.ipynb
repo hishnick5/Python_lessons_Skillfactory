{
 "cells": [
  {
   "cell_type": "markdown",
   "metadata": {},
   "source": [
    "Спиральная матрица"
   ]
  },
  {
   "cell_type": "code",
   "execution_count": null,
   "metadata": {},
   "outputs": [],
   "source": [
    "n, m = map(int, input().split())\n",
    "matrix = [[0] * m for _ in range(n)]\n",
    "dx, dy, x, y = 0, 1, 0, 0\n",
    "\n",
    "for i in range(1, n * m + 1):\n",
    "    matrix[x][y] = i\n",
    "    if matrix[(x + dx) % n][(y + dy) % m]:\n",
    "        dx, dy = dy, -dx\n",
    "    x += dx\n",
    "    y += dy    \n",
    "for line in matrix:\n",
    "    print(*(f'{i:<3}' for i in line), sep='')"
   ]
  }
 ],
 "metadata": {
  "kernelspec": {
   "display_name": "Python 3",
   "language": "python",
   "name": "python3"
  },
  "language_info": {
   "codemirror_mode": {
    "name": "ipython",
    "version": 3
   },
   "file_extension": ".py",
   "mimetype": "text/x-python",
   "name": "python",
   "nbconvert_exporter": "python",
   "pygments_lexer": "ipython3",
   "version": "3.11.0"
  }
 },
 "nbformat": 4,
 "nbformat_minor": 2
}
